{
 "cells": [
  {
   "cell_type": "code",
   "execution_count": 1,
   "metadata": {
    "collapsed": true,
    "pycharm": {
     "name": "#%%\n"
    }
   },
   "outputs": [],
   "source": [
    "import pyvisa\n",
    "import datetime\n",
    "import json\n",
    "import time\n",
    "import numpy as np\n",
    "import matplotlib.pyplot as plt"
   ]
  },
  {
   "cell_type": "code",
   "execution_count": 2,
   "outputs": [
    {
     "name": "stdout",
     "output_type": "stream",
     "text": [
      "('TCPIP0::18.25.29.125::inst0::INSTR', 'TCPIP0::K-CX3300-ERIAL.local::hislip0::INSTR', 'TCPIP0::K-CX3300-ERIAL.local::inst0::INSTR', 'ASRL1::INSTR', 'ASRL4::INSTR', 'GPIB1::9::INSTR')\n",
      "Using Keithley Instruments Inc., Model 2657A, 1409200, 1.1.8\n",
      "\n"
     ]
    }
   ],
   "source": [
    "# Connect to keithleys\n",
    "rm = pyvisa.ResourceManager()\n",
    "print(rm.list_resources())\n",
    "\n",
    "vsource = rm.open_resource('GPIB1::9::INSTR')\n",
    "\n",
    "print(\"Using \" + vsource.query('*IDN?'))\n"
   ],
   "metadata": {
    "collapsed": false,
    "pycharm": {
     "name": "#%%\n"
    }
   }
  },
  {
   "cell_type": "code",
   "execution_count": 3,
   "outputs": [
    {
     "data": {
      "text/plain": "14"
     },
     "execution_count": 3,
     "metadata": {},
     "output_type": "execute_result"
    }
   ],
   "source": [
    "vsource.write('smua.reset()')\n"
   ],
   "metadata": {
    "collapsed": false,
    "pycharm": {
     "name": "#%%\n"
    }
   }
  },
  {
   "cell_type": "code",
   "execution_count": 12,
   "outputs": [],
   "source": [
    "# experiment_name = 'test'\n",
    "data_dir = 'C://Users//kashkin//Desktop//keithley data//'\n",
    "current_limit = 70e-3\n",
    "voltage_limit = 3.2e3\n",
    "\n",
    "notes = 'jorge test'\n",
    "total_time = 10\n",
    "set_voltage = 2\n",
    "measurement_count = 1\n",
    "filter_measurement_count = 5\n",
    "experiment_name = '{time} s {voltage} v'.format(time=total_time,voltage=set_voltage)\n",
    "nplc = 1 # nplc/60 is the period of the measurement\n"
   ],
   "metadata": {
    "collapsed": false,
    "pycharm": {
     "name": "#%%\n"
    }
   }
  },
  {
   "cell_type": "code",
   "execution_count": 13,
   "outputs": [
    {
     "data": {
      "text/plain": "579"
     },
     "execution_count": 13,
     "metadata": {},
     "output_type": "execute_result"
    }
   ],
   "source": [
    "# Configure as voltage source\n",
    "vsource.write(' \\\n",
    "    smua.source.func = smua.OUTPUT_DCVOLTS \\n\\\n",
    "    display.smua.measure.func = display.MEASURE_DCAMPS \\n\\\n",
    "    smua.measure.autozero = smua.AUTOZERO_AUTO \\n\\\n",
    "    smua.measure.autorangei = smua.AUTORANGE_OFF \\n\\\n",
    "    smua.measure.rangei = {i_lim} \\n\\\n",
    "    smua.measure.rangev = {v_lim} \\n\\\n",
    "    smua.source.limiti = {i_lim} \\n\\\n",
    "    smua.measure.adc = smua.ADC_INTEGRATE \\n\\\n",
    "    smua.measure.nplc = {nplc} \\n\\\n",
    "    smua.measure.delay = smua.DELAY_OFF \\n\\\n",
    "    smua.measure.count = {m_count} \\n\\\n",
    "    smua.measure.filter.count = {f_count} \\n\\\n",
    "    smua.measure.filter.enable = smua.FILTER_ON \\n\\\n",
    "    smua.measure.filter.type = smua.FILTER_REPEAT_AVG \\\n",
    "    '.format(i_lim = current_limit, v_lim = voltage_limit, m_count = measurement_count, nplc=nplc, f_count = filter_measurement_count))"
   ],
   "metadata": {
    "collapsed": false,
    "pycharm": {
     "name": "#%%\n"
    }
   }
  },
  {
   "cell_type": "code",
   "execution_count": 14,
   "outputs": [],
   "source": [
    "aggregate_data = {'notes':notes,'voltage':set_voltage,'measured_voltages':[],'measured_currents':[],'times':[]}\n"
   ],
   "metadata": {
    "collapsed": false,
    "pycharm": {
     "name": "#%%\n"
    }
   }
  },
  {
   "cell_type": "code",
   "execution_count": 15,
   "outputs": [
    {
     "data": {
      "text/plain": "24"
     },
     "execution_count": 15,
     "metadata": {},
     "output_type": "execute_result"
    }
   ],
   "source": [
    "# Conduct iteration of voltages applied to emitter with extractor set as ground\n",
    "start_time = float(datetime.datetime.now().timestamp())\n",
    "elapsed_time = 0\n",
    "\n",
    "vsource.write('smua.source.levelv = %s'%set_voltage)\n",
    "\n",
    "while elapsed_time < total_time:\n",
    "        vsource.write('ireading, vreading = smua.measure.iv(smua.nvbuffer1, smua.nvbuffer2)')\n",
    "\n",
    "        measured_current = float(vsource.query(\"print(ireading)\")[:-1])\n",
    "        measured_voltage = float(vsource.query(\"print(vreading)\")[:-1])\n",
    "\n",
    "        aggregate_data['measured_voltages'].append(measured_voltage)\n",
    "\n",
    "        aggregate_data['measured_currents'].append(measured_current)\n",
    "\n",
    "        aggregate_data['times'].append(elapsed_time)\n",
    "\n",
    "        elapsed_time = float(datetime.datetime.now().timestamp()) - start_time\n",
    "\n",
    "vsource.write('smua.source.levelv = 0')\n"
   ],
   "metadata": {
    "collapsed": false,
    "pycharm": {
     "name": "#%%\n"
    }
   }
  },
  {
   "cell_type": "code",
   "execution_count": 16,
   "outputs": [],
   "source": [
    "# dts = []\n",
    "# for i in range(len(aggregate_data['times']) - 1):\n",
    "#     dts.append(aggregate_data['times'][i+1] - aggregate_data['times'][i])\n",
    "# print(np.average(dts))\n",
    "# print(1/np.average(dts))"
   ],
   "metadata": {
    "collapsed": false,
    "pycharm": {
     "name": "#%%\n"
    }
   }
  },
  {
   "cell_type": "code",
   "execution_count": 17,
   "outputs": [],
   "source": [
    "# plt.hist(dts)\n",
    "# plt.show()"
   ],
   "metadata": {
    "collapsed": false,
    "pycharm": {
     "name": "#%%\n"
    }
   }
  },
  {
   "cell_type": "code",
   "execution_count": 18,
   "outputs": [
    {
     "name": "stdout",
     "output_type": "stream",
     "text": [
      "saved to {'C://Users//kashkin//Desktop//keithley data//10 s 2 v_ 2022_11_23-18_15_52.json'}\n"
     ]
    }
   ],
   "source": [
    "filename = data_dir + experiment_name + '_ %s'%datetime.datetime.now().strftime('%Y_%m_%d-%H_%M_%S') + '.json'\n",
    "\n",
    "with open(filename, 'w') as file:\n",
    "    json.dump(aggregate_data, file)\n",
    "\n",
    "print('saved to %s' %{filename})"
   ],
   "metadata": {
    "collapsed": false,
    "pycharm": {
     "name": "#%%\n"
    }
   }
  },
  {
   "cell_type": "code",
   "execution_count": 19,
   "outputs": [
    {
     "data": {
      "text/plain": "<Figure size 432x288 with 1 Axes>",
      "image/png": "[encoded data removed]"
     },
     "metadata": {
      "needs_background": "light"
     },
     "output_type": "display_data"
    }
   ],
   "source": [
    "plt.plot(aggregate_data['times'],aggregate_data['measured_currents'],label='Measured current')\n",
    "plt.xlabel('Time (s)')\n",
    "plt.ylabel('Current (A)')\n",
    "# plt.ylim(-5e-5,5e-5)\n",
    "# plt.ylim(-current_limit,current_limit)\n",
    "plt.legend()\n",
    "plt.show()"
   ],
   "metadata": {
    "collapsed": false,
    "pycharm": {
     "name": "#%%\n"
    }
   }
  },
  {
   "cell_type": "code",
   "execution_count": 20,
   "outputs": [
    {
     "name": "stdout",
     "output_type": "stream",
     "text": [
      "\n",
      "Setting source voltage to 0 V\n",
      "Turning off output\n",
      "Closing Keithley connection\n"
     ]
    }
   ],
   "source": [
    "#Turn off output and drain capacitors\n",
    "print(\"\\nSetting source voltage to 0 V\")\n",
    "vsource.write(\"smua.source.levelv = 0\")\n",
    "\n",
    "print(\"Turning off output\")\n",
    "vsource.write(\"smua.source.output = 0\")\n",
    "\n",
    "print(\"Closing Keithley connection\")\n",
    "vsource.close()\n"
   ],
   "metadata": {
    "collapsed": false,
    "pycharm": {
     "name": "#%%\n"
    }
   }
  },
  {
   "cell_type": "code",
   "execution_count": null,
   "outputs": [],
   "source": [],
   "metadata": {
    "collapsed": false,
    "pycharm": {
     "name": "#%%\n"
    }
   }
  }
 ],
 "metadata": {
  "kernelspec": {
   "display_name": "Python 3",
   "language": "python",
   "name": "python3"
  },
  "language_info": {
   "codemirror_mode": {
    "name": "ipython",
    "version": 2
   },
   "file_extension": ".py",
   "mimetype": "text/x-python",
   "name": "python",
   "nbconvert_exporter": "python",
   "pygments_lexer": "ipython2",
   "version": "2.7.6"
  }
 },
 "nbformat": 4,
 "nbformat_minor": 0
}