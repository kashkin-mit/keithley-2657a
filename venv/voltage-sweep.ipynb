{
 "cells": [
  {
   "cell_type": "code",
   "execution_count": null,
   "outputs": [],
   "source": [
    "from pymeasure.instruments.keithley import Keithley2400\n",
    "import numpy as np\n",
    "import pandas as pd\n",
    "from time import sleep"
   ],
   "metadata": {
    "collapsed": false,
    "pycharm": {
     "name": "#%%\n"
    }
   }
  },
  {
   "cell_type": "code",
   "execution_count": null,
   "metadata": {
    "collapsed": true
   },
   "outputs": [],
   "source": [
    "sourcemeter = Keithley2600(\"GPIB::9\")\n",
    "sourcemeter.reset()\n",
    "sourcemeter.use_front_terminals()\n",
    "sourcemeter.measure_current()\n",
    "sourcemeter.config_voltage_source()\n",
    "sleep(0.1) # wait here to give the instrument time to react\n",
    "sourcemeter.set_buffer(10) # apparently number of points for averaging\n",
    "print('we are going!')"
   ]
  },
  {
   "cell_type": "code",
   "execution_count": null,
   "outputs": [],
   "source": [
    "data_points = 11\n",
    "voltages = np.linspace(0, -1000, num=data_points)\n",
    "currents = np.zeros_like(voltages)\n",
    "current_stds = np.zeros_like(voltages)\n"
   ],
   "metadata": {
    "collapsed": false,
    "pycharm": {
     "name": "#%%\n"
    }
   }
  },
  {
   "cell_type": "code",
   "execution_count": null,
   "outputs": [],
   "source": [
    "# Loop through each current point, measure and record the voltage\n",
    "for i in range(data_points):\n",
    "    sourcemeter.voltage = voltages[i]\n",
    "    sourcemeter.reset_buffer()\n",
    "    sleep(0.1)\n",
    "    sourcemeter.start_buffer()\n",
    "    sourcemeter.wait_for_buffer()\n",
    "\n",
    "    # Record the average and standard deviation\n",
    "    currents[i] = sourcemeter.means\n",
    "    current_stds[i] = sourcemeter.standard_devs"
   ],
   "metadata": {
    "collapsed": false,
    "pycharm": {
     "name": "#%%\n"
    }
   }
  },
  {
   "cell_type": "code",
   "execution_count": null,
   "outputs": [],
   "source": [
    "# Save the data columns in a CSV file\n",
    "data = pd.DataFrame({\n",
    "    'Voltage (V)': voltages,\n",
    "    'Currents (A)': currents,\n",
    "    'Current Std (V)': current_stds,\n",
    "})\n",
    "data.to_csv('test-1.csv')\n",
    "\n",
    "sourcemeter.shutdown()"
   ],
   "metadata": {
    "collapsed": false,
    "pycharm": {
     "name": "#%%\n"
    }
   }
  }
 ],
 "metadata": {
  "kernelspec": {
   "display_name": "Python 3",
   "language": "python",
   "name": "python3"
  },
  "language_info": {
   "codemirror_mode": {
    "name": "ipython",
    "version": 2
   },
   "file_extension": ".py",
   "mimetype": "text/x-python",
   "name": "python",
   "nbconvert_exporter": "python",
   "pygments_lexer": "ipython2",
   "version": "2.7.6"
  }
 },
 "nbformat": 4,
 "nbformat_minor": 0
}