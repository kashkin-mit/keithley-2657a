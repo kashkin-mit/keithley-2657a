{
 "cells": [
  {
   "cell_type": "code",
   "execution_count": 1,
   "metadata": {
    "collapsed": true,
    "pycharm": {
     "name": "#%%\n"
    }
   },
   "outputs": [],
   "source": [
    "# Implements a buffer for faster readout\n",
    "import pyvisa\n",
    "import datetime\n",
    "import json\n",
    "import time\n",
    "import numpy as np\n",
    "import matplotlib.pyplot as plt"
   ]
  },
  {
   "cell_type": "code",
   "execution_count": 11,
   "outputs": [],
   "source": [
    "data_dir = 'C://Users//kashkin//Desktop//keithley data//'\n",
    "experiment_name = 'initial testing'\n",
    "current_limit = 1.0e-6\n",
    "voltage_limit = 3000\n",
    "measurement_interval = 1.0e-4\n",
    "operating_voltage = 10\n",
    "measurement_count = 600\n",
    "soak_time = 5"
   ],
   "metadata": {
    "collapsed": false,
    "pycharm": {
     "name": "#%%\n"
    }
   }
  },
  {
   "cell_type": "code",
   "execution_count": 3,
   "outputs": [
    {
     "name": "stdout",
     "output_type": "stream",
     "text": [
      "('TCPIP0::18.25.28.214::inst0::INSTR', 'TCPIP0::18.62.7.104::inst0::INSTR', 'TCPIP0::18.25.28.21::inst0::INSTR', 'TCPIP0::18.25.25.62::inst0::INSTR', 'ASRL1::INSTR', 'GPIB1::11::INSTR')\n",
      "Using Keithley Instruments Inc., Model 2657A, 4033749, 1.1.8\n",
      "\n"
     ]
    }
   ],
   "source": [
    "# Connect to keithley\n",
    "rm = pyvisa.ResourceManager()\n",
    "print(rm.list_resources())\n",
    "keithley = rm.open_resource('GPIB1::11::INSTR')\n",
    "print(\"Using \" + keithley.query('*IDN?'))"
   ],
   "metadata": {
    "collapsed": false,
    "pycharm": {
     "name": "#%%\n"
    }
   }
  },
  {
   "cell_type": "code",
   "execution_count": 4,
   "outputs": [
    {
     "data": {
      "text/plain": "14"
     },
     "execution_count": 4,
     "metadata": {},
     "output_type": "execute_result"
    }
   ],
   "source": [
    "keithley.write('smua.reset()')"
   ],
   "metadata": {
    "collapsed": false,
    "pycharm": {
     "name": "#%%\n"
    }
   }
  },
  {
   "cell_type": "code",
   "execution_count": 12,
   "outputs": [
    {
     "data": {
      "text/plain": "446"
     },
     "execution_count": 12,
     "metadata": {},
     "output_type": "execute_result"
    }
   ],
   "source": [
    "# Configure as voltage source\n",
    "keithley.write(' \\\n",
    "    smua.source.func = smua.OUTPUT_DCVOLTS \\n\\\n",
    "    display.smua.measure.func = display.MEASURE_DCAMPS \\n\\\n",
    "    smua.measure.autozero = smua.AUTOZERO_ONCE \\n\\\n",
    "    smua.measure.autorangei = smua.AUTORANGE_OFF \\n\\\n",
    "    smua.measure.rangei = {i_lim} \\n\\\n",
    "    smua.measure.rangev = {v_lim} \\n\\\n",
    "    smua.source.limiti = {i_lim} \\n\\\n",
    "    smua.measure.adc = smua.ADC_FAST \\n\\\n",
    "    smua.measure.interval = {m_int} \\n\\\n",
    "    smua.measure.delay = smua.DELAY_OFF \\n\\\n",
    "    smua.measure.count = {m_count} \\\n",
    "    '.format(i_lim = current_limit, v_lim = voltage_limit, m_count = measurement_count, m_int=measurement_interval))"
   ],
   "metadata": {
    "collapsed": false,
    "pycharm": {
     "name": "#%%\n"
    }
   }
  },
  {
   "cell_type": "code",
   "execution_count": 13,
   "outputs": [
    {
     "data": {
      "text/plain": "111"
     },
     "execution_count": 13,
     "metadata": {},
     "output_type": "execute_result"
    }
   ],
   "source": [
    "keithley.write(' \\\n",
    "    smua.nvbuffer1.clear() \\n\\\n",
    "\tsmua.nvbuffer1.collecttimestamps\t= 1 \\n\\\n",
    "\tsmua.nvbuffer1.collectsourcevalues\t= 1 \\n\\\n",
    "')"
   ],
   "metadata": {
    "collapsed": false,
    "pycharm": {
     "name": "#%%\n"
    }
   }
  },
  {
   "cell_type": "code",
   "execution_count": 14,
   "outputs": [
    {
     "data": {
      "text/plain": "49"
     },
     "execution_count": 14,
     "metadata": {},
     "output_type": "execute_result"
    }
   ],
   "source": [
    "keithley.write('smua.source.levelv = %s'%operating_voltage)\n",
    "keithley.write('smua.measure.iv(smua.nvbuffer1, smua.nvbuffer2)')"
   ],
   "metadata": {
    "collapsed": false,
    "pycharm": {
     "name": "#%%\n"
    }
   }
  },
  {
   "cell_type": "code",
   "execution_count": 15,
   "outputs": [],
   "source": [
    "measurements = []\n",
    "timestamps = []\n",
    "counter = 1\n",
    "for i in range(measurement_count):\n",
    "    try:\n",
    "        raw_measurement = keithley.query('print(smua.nvbuffer1[{iterate}])'.format(iterate=counter))\n",
    "        raw_time = keithley.query('print(smua.nvbuffer1.timestamps[{iterate}])'.format(iterate=counter))\n",
    "        measurements.append(float(raw_measurement[:-1]))\n",
    "        timestamps.append(float(raw_time[:-1]))\n",
    "        counter += 1\n",
    "    except BaseException as e:\n",
    "        break\n"
   ],
   "metadata": {
    "collapsed": false,
    "pycharm": {
     "name": "#%%\n"
    }
   }
  },
  {
   "cell_type": "code",
   "execution_count": 16,
   "outputs": [
    {
     "data": {
      "text/plain": "<Figure size 432x288 with 1 Axes>",
      "image/png": "[encoded data removed]"
     },
     "metadata": {
      "needs_background": "light"
     },
     "output_type": "display_data"
    }
   ],
   "source": [
    "plt.plot(timestamps,measurements)\n",
    "plt.show()"
   ],
   "metadata": {
    "collapsed": false,
    "pycharm": {
     "name": "#%%\n"
    }
   }
  },
  {
   "cell_type": "code",
   "execution_count": 10,
   "outputs": [
    {
     "name": "stdout",
     "output_type": "stream",
     "text": [
      "0.001\n",
      "1000.0\n"
     ]
    }
   ],
   "source": [
    "dts = []\n",
    "for i in range(len(timestamps) - 1):\n",
    "    dts.append(timestamps[i + 1] - timestamps[i])\n",
    "print(np.average(dts))\n",
    "print(1 / np.average(dts))"
   ],
   "metadata": {
    "collapsed": false,
    "pycharm": {
     "name": "#%%\n"
    }
   }
  },
  {
   "cell_type": "code",
   "execution_count": 17,
   "outputs": [
    {
     "name": "stdout",
     "output_type": "stream",
     "text": [
      "saved to {'C://Users//kashkin//Desktop//keithley data//initial testing_ 2022_07_08-16_21_58.json'}\n"
     ]
    }
   ],
   "source": [
    "aggregate_data = {'voltage':operating_voltage,'times':timestamps,'measured_currents':measurements}\n",
    "\n",
    "filename = data_dir + experiment_name + '_ %s'%datetime.datetime.now().strftime('%Y_%m_%d-%H_%M_%S') + '.json'\n",
    "\n",
    "with open(filename, 'w') as file:\n",
    "    json.dump(aggregate_data, file)\n",
    "\n",
    "print('saved to %s' %{filename})"
   ],
   "metadata": {
    "collapsed": false,
    "pycharm": {
     "name": "#%%\n"
    }
   }
  },
  {
   "cell_type": "code",
   "execution_count": 18,
   "outputs": [
    {
     "name": "stdout",
     "output_type": "stream",
     "text": [
      "\n",
      "Setting source voltage to 0 V\n",
      "Wait 5s until capacitors are fully discharged\n",
      "Turning off output\n",
      "Closing Keithley connection\n"
     ]
    }
   ],
   "source": [
    "#Turn off output and drain capacitors\n",
    "print(\"\\nSetting source voltage to 0 V\")\n",
    "keithley.write(\"smua.source.levelv = 0\")\n",
    "\n",
    "print(\"Wait {}s until capacitors are fully discharged\".format(soak_time))\n",
    "time.sleep(soak_time)\n",
    "\n",
    "print(\"Turning off output\")\n",
    "keithley.write(\"smua.source.output = 0\")\n",
    "\n",
    "print(\"Closing Keithley connection\")\n",
    "keithley.close()"
   ],
   "metadata": {
    "collapsed": false,
    "pycharm": {
     "name": "#%%\n"
    }
   }
  }
 ],
 "metadata": {
  "kernelspec": {
   "display_name": "Python 3",
   "language": "python",
   "name": "python3"
  },
  "language_info": {
   "codemirror_mode": {
    "name": "ipython",
    "version": 2
   },
   "file_extension": ".py",
   "mimetype": "text/x-python",
   "name": "python",
   "nbconvert_exporter": "python",
   "pygments_lexer": "ipython2",
   "version": "2.7.6"
  }
 },
 "nbformat": 4,
 "nbformat_minor": 0
}