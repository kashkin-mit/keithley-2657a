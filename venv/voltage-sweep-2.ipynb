{
 "cells": [
  {
   "cell_type": "code",
   "execution_count": 51,
   "outputs": [],
   "source": [
    "import pyvisa\n",
    "import datetime\n",
    "import json\n",
    "import time\n",
    "import numpy as np\n",
    "import matplotlib.pyplot as plt"
   ],
   "metadata": {
    "collapsed": false,
    "pycharm": {
     "name": "#%%\n"
    }
   }
  },
  {
   "cell_type": "code",
   "execution_count": 52,
   "outputs": [],
   "source": [
    "data_dir = 'C://Users//kashkin//Desktop//keithley data//'\n",
    "current_limit = 1.0e-6\n",
    "soak_time = 5"
   ],
   "metadata": {
    "collapsed": false,
    "pycharm": {
     "name": "#%%\n"
    }
   }
  },
  {
   "cell_type": "code",
   "execution_count": 63,
   "outputs": [],
   "source": [
    "experiment_name = 'initial testing'\n",
    "data_points = 11\n",
    "input_voltages = list(np.linspace(0, -10, num=data_points))\n",
    "measured_voltages = []\n",
    "measured_currents = []"
   ],
   "metadata": {
    "collapsed": false,
    "pycharm": {
     "name": "#%%\n"
    }
   }
  },
  {
   "cell_type": "code",
   "execution_count": 54,
   "outputs": [
    {
     "name": "stdout",
     "output_type": "stream",
     "text": [
      "('TCPIP0::18.25.28.214::inst0::INSTR', 'TCPIP0::18.25.28.21::inst0::INSTR', 'TCPIP0::18.25.25.62::inst0::INSTR', 'ASRL1::INSTR', 'GPIB1::11::INSTR')\n",
      "Using Keithley Instruments Inc., Model 2657A, 4033749, 1.1.8\n",
      "\n"
     ]
    }
   ],
   "source": [
    "### Connect to keithley\n",
    "rm = pyvisa.ResourceManager()\n",
    "print(rm.list_resources())\n",
    "keithley = rm.open_resource('GPIB1::11::INSTR')\n",
    "print(\"Using \" + keithley.query('*IDN?'))"
   ],
   "metadata": {
    "collapsed": false,
    "pycharm": {
     "name": "#%%\n"
    }
   }
  },
  {
   "cell_type": "code",
   "execution_count": 56,
   "outputs": [
    {
     "data": {
      "text/plain": "235"
     },
     "execution_count": 56,
     "metadata": {},
     "output_type": "execute_result"
    }
   ],
   "source": [
    "# Configure as voltage source\n",
    "keithley.write(' \\\n",
    "    smua.source.func = smua.OUTPUT_DCVOLTS \\n\\\n",
    "    display.smua.measure.func = display.MEASURE_DCAMPS \\n\\\n",
    "    smua.measure.autozero = smua.AUTOZERO_ONCE \\n\\\n",
    "    smua.measure.autorangei = smua.AUTORANGE_ON \\n\\\n",
    "    smua.source.limiti = {i_lim} \\\n",
    "    '.format(i_lim = current_limit))"
   ],
   "metadata": {
    "collapsed": false,
    "pycharm": {
     "name": "#%%\n"
    }
   }
  },
  {
   "cell_type": "code",
   "execution_count": 57,
   "outputs": [
    {
     "name": "stdout",
     "output_type": "stream",
     "text": [
      "Error occured: -2.85000e+02\n"
     ]
    }
   ],
   "source": [
    "# Apparently an interlock check, not sure if it's useful\n",
    "keithley.write(\"counter = errorqueue.count\")\n",
    "error_count = keithley.query(\"print(counter)\")[:-1]\n",
    "if float(error_count) > 0:\n",
    "    keithley.write(\"errorId = errorqueue.next()\")\n",
    "    error_id = keithley.query(\"print(errorId)\")[:-1]\n",
    "    if float(error_id) == 8.02:\n",
    "        raise AssertionError()\n",
    "    print(\"Error occured: \" + str(error_id))"
   ],
   "metadata": {
    "collapsed": false,
    "pycharm": {
     "name": "#%%\n"
    }
   }
  },
  {
   "cell_type": "code",
   "execution_count": 64,
   "outputs": [],
   "source": [
    "# Iterate through data points\n",
    "for voltage in input_voltages:\n",
    "    keithley.write('smua.source.levelv = %s'%voltage)\n",
    "    keithley.write(\"ireading, vreading = smua.measure.iv(smua.nvbuffer1, smua.nvbuffer2)\")\n",
    "    measured_current = keithley.query(\"print(ireading)\")[:-1] # to remove \\n string at end\n",
    "    measured_voltage = keithley.query(\"print(vreading)\")[:-1]\n",
    "\n",
    "    measured_currents.append(measured_current)\n",
    "    measured_voltages.append(measured_voltage)"
   ],
   "metadata": {
    "collapsed": false,
    "pycharm": {
     "name": "#%%\n"
    }
   }
  },
  {
   "cell_type": "code",
   "execution_count": 65,
   "outputs": [
    {
     "name": "stdout",
     "output_type": "stream",
     "text": [
      "['-2.36019e-03', '-1.00428e+00', '-2.00393e+00', '-3.00435e+00', '-4.00404e+00', '-5.00370e+00', '-6.00232e+00', '-7.00275e+00', '-8.00281e+00', '-9.00318e+00', '-1.00032e+01'] ['9.47363e-13', '-1.79239e-11', '-1.83886e-11', '-1.87263e-11', '-1.89177e-11', '-1.90398e-11', '-1.91692e-11', '-1.93212e-11', '-1.95273e-11', '-1.96608e-11', '-1.98718e-11']\n"
     ]
    }
   ],
   "source": [
    "print(measured_voltages, measured_currents)"
   ],
   "metadata": {
    "collapsed": false,
    "pycharm": {
     "name": "#%%\n"
    }
   }
  },
  {
   "cell_type": "code",
   "execution_count": 66,
   "outputs": [
    {
     "name": "stdout",
     "output_type": "stream",
     "text": [
      "saved to {'C://Users//kashkin//Desktop//keithley data//initial testing_ 2022_07_07-19_43_53.json'}\n"
     ]
    }
   ],
   "source": [
    "aggregate_data = {'input_voltages':input_voltages,'measured_voltages':measured_voltages,'measured_currents':measured_currents}\n",
    "\n",
    "filename = data_dir + experiment_name + '_ %s'%datetime.datetime.now().strftime('%Y_%m_%d-%H_%M_%S') + '.json'\n",
    "\n",
    "with open(filename, 'w') as file:\n",
    "    json.dump(aggregate_data, file)\n",
    "\n",
    "print('saved to %s' %{filename})"
   ],
   "metadata": {
    "collapsed": false,
    "pycharm": {
     "name": "#%%\n"
    }
   }
  },
  {
   "cell_type": "code",
   "execution_count": 67,
   "outputs": [
    {
     "data": {
      "text/plain": "<Figure size 432x288 with 1 Axes>",
      "image/png": "[encoded data removed]"
     },
     "metadata": {
      "needs_background": "light"
     },
     "output_type": "display_data"
    }
   ],
   "source": [
    "plt.plot(measured_voltages, measured_currents)\n",
    "plt.xlabel('Voltage (V)')\n",
    "plt.ylabel('Current (A)')\n",
    "plt.show()"
   ],
   "metadata": {
    "collapsed": false,
    "pycharm": {
     "name": "#%%\n"
    }
   }
  },
  {
   "cell_type": "code",
   "execution_count": 68,
   "outputs": [
    {
     "name": "stdout",
     "output_type": "stream",
     "text": [
      "\n",
      "Setting source voltage to 0 V\n",
      "Wait 5s until capacitors are fully discharged\n",
      "Turning off output\n",
      "Closing Keithley connection\n"
     ]
    }
   ],
   "source": [
    "#Turn off output and drain capacitors\n",
    "print(\"\\nSetting source voltage to 0 V\")\n",
    "keithley.write(\"smua.source.levelv = 0\")\n",
    "\n",
    "print(\"Wait {}s until capacitors are fully discharged\".format(soak_time))\n",
    "time.sleep(soak_time)\n",
    "\n",
    "print(\"Turning off output\")\n",
    "keithley.write(\"smua.source.output = 0\")\n",
    "\n",
    "print(\"Closing Keithley connection\")\n",
    "keithley.close()"
   ],
   "metadata": {
    "collapsed": false,
    "pycharm": {
     "name": "#%%\n"
    }
   }
  }
 ],
 "metadata": {
  "kernelspec": {
   "display_name": "Python 3",
   "language": "python",
   "name": "python3"
  },
  "language_info": {
   "codemirror_mode": {
    "name": "ipython",
    "version": 2
   },
   "file_extension": ".py",
   "mimetype": "text/x-python",
   "name": "python",
   "nbconvert_exporter": "python",
   "pygments_lexer": "ipython2",
   "version": "2.7.6"
  }
 },
 "nbformat": 4,
 "nbformat_minor": 0
}