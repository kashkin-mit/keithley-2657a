{
 "cells": [
  {
   "cell_type": "code",
   "execution_count": 477,
   "metadata": {
    "collapsed": true,
    "pycharm": {
     "name": "#%%\n"
    }
   },
   "outputs": [],
   "source": [
    "import pyvisa\n",
    "import datetime\n",
    "import json\n",
    "import time\n",
    "import numpy as np\n",
    "import matplotlib.pyplot as plt"
   ]
  },
  {
   "cell_type": "code",
   "execution_count": 478,
   "outputs": [
    {
     "name": "stdout",
     "output_type": "stream",
     "text": [
      "('TCPIP0::18.25.28.214::inst0::INSTR', 'TCPIP0::K-CX3300-ERIAL.local::hislip0::INSTR', 'TCPIP0::K-CX3300-ERIAL.local::inst0::INSTR', 'TCPIP0::18.25.28.21::inst0::INSTR', 'TCPIP0::18.25.25.62::inst0::INSTR', 'ASRL1::INSTR', 'GPIB1::10::INSTR', 'GPIB1::11::INSTR')\n",
      "Using Keithley Instruments Inc., Model 2657A, 4033749, 1.1.8\n",
      "\n",
      "Using Keithley Instruments Inc., Model 2657A, 1409197, 1.2.0\n",
      "\n"
     ]
    }
   ],
   "source": [
    "# Connect to keithleys\n",
    "rm = pyvisa.ResourceManager()\n",
    "print(rm.list_resources())\n",
    "\n",
    "emitter = rm.open_resource('GPIB1::11::INSTR')\n",
    "extractor = rm.open_resource('GPIB1::10::INSTR')\n",
    "\n",
    "print(\"Using \" + emitter.query('*IDN?'))\n",
    "print(\"Using \" + extractor.query('*IDN?'))"
   ],
   "metadata": {
    "collapsed": false,
    "pycharm": {
     "name": "#%%\n"
    }
   }
  },
  {
   "cell_type": "code",
   "execution_count": 479,
   "outputs": [
    {
     "data": {
      "text/plain": "14"
     },
     "execution_count": 479,
     "metadata": {},
     "output_type": "execute_result"
    }
   ],
   "source": [
    "emitter.write('smua.reset()')\n",
    "extractor.write('smua.reset()')"
   ],
   "metadata": {
    "collapsed": false,
    "pycharm": {
     "name": "#%%\n"
    }
   }
  },
  {
   "cell_type": "code",
   "execution_count": 494,
   "outputs": [],
   "source": [
    "# experiment_name = 'test'\n",
    "data_dir = 'C://Users//kashkin//Desktop//keithley data//'\n",
    "current_limit = 5000.0e-6\n",
    "notes = '5 e-6 torr with 1 mm copper extractor distance, sparking happens nearer to 1 kV'\n",
    "experiment_name = 'one last bad coat cnt x631 test x3'\n",
    "iterates = 3\n",
    "data_points = 201\n",
    "voltage_limit = 3000\n",
    "measurement_count = 1\n",
    "filter_measurement_count = 5\n",
    "nplc = 1 # nplc/60 is the period of the measurement\n",
    "input_voltages = list(np.linspace(0, -1000, num=data_points))\n"
   ],
   "metadata": {
    "collapsed": false,
    "pycharm": {
     "name": "#%%\n"
    }
   }
  },
  {
   "cell_type": "code",
   "execution_count": 495,
   "outputs": [
    {
     "data": {
      "text/plain": "579"
     },
     "execution_count": 495,
     "metadata": {},
     "output_type": "execute_result"
    }
   ],
   "source": [
    "# Configure as voltage source\n",
    "emitter.write(' \\\n",
    "    smua.source.func = smua.OUTPUT_DCVOLTS \\n\\\n",
    "    display.smua.measure.func = display.MEASURE_DCAMPS \\n\\\n",
    "    smua.measure.autozero = smua.AUTOZERO_AUTO \\n\\\n",
    "    smua.measure.autorangei = smua.AUTORANGE_OFF \\n\\\n",
    "    smua.measure.rangei = {i_lim} \\n\\\n",
    "    smua.measure.rangev = {v_lim} \\n\\\n",
    "    smua.source.limiti = {i_lim} \\n\\\n",
    "    smua.measure.adc = smua.ADC_INTEGRATE \\n\\\n",
    "    smua.measure.nplc = {nplc} \\n\\\n",
    "    smua.measure.delay = smua.DELAY_OFF \\n\\\n",
    "    smua.measure.count = {m_count} \\n\\\n",
    "    smua.measure.filter.count = {f_count} \\n\\\n",
    "    smua.measure.filter.enable = smua.FILTER_ON \\n\\\n",
    "    smua.measure.filter.type = smua.FILTER_REPEAT_AVG \\\n",
    "    '.format(i_lim = current_limit, v_lim = voltage_limit, m_count = measurement_count, nplc=nplc, f_count = filter_measurement_count))"
   ],
   "metadata": {
    "collapsed": false,
    "pycharm": {
     "name": "#%%\n"
    }
   }
  },
  {
   "cell_type": "code",
   "execution_count": 496,
   "outputs": [
    {
     "data": {
      "text/plain": "579"
     },
     "execution_count": 496,
     "metadata": {},
     "output_type": "execute_result"
    }
   ],
   "source": [
    "# Configure as voltage source\n",
    "extractor.write(' \\\n",
    "    smua.source.func = smua.OUTPUT_DCVOLTS \\n\\\n",
    "    display.smua.measure.func = display.MEASURE_DCAMPS \\n\\\n",
    "    smua.measure.autozero = smua.AUTOZERO_AUTO \\n\\\n",
    "    smua.measure.autorangei = smua.AUTORANGE_OFF \\n\\\n",
    "    smua.measure.rangei = {i_lim} \\n\\\n",
    "    smua.measure.rangev = {v_lim} \\n\\\n",
    "    smua.source.limiti = {i_lim} \\n\\\n",
    "    smua.measure.adc = smua.ADC_INTEGRATE \\n\\\n",
    "    smua.measure.nplc = {nplc} \\n\\\n",
    "    smua.measure.delay = smua.DELAY_OFF \\n\\\n",
    "    smua.measure.count = {m_count} \\n\\\n",
    "    smua.measure.filter.count = {f_count} \\n\\\n",
    "    smua.measure.filter.enable = smua.FILTER_ON \\n\\\n",
    "    smua.measure.filter.type = smua.FILTER_REPEAT_AVG \\\n",
    "    '.format(i_lim = current_limit, v_lim = voltage_limit, m_count = measurement_count, nplc=nplc, f_count = filter_measurement_count))"
   ],
   "metadata": {
    "collapsed": false,
    "pycharm": {
     "name": "#%%\n"
    }
   }
  },
  {
   "cell_type": "code",
   "execution_count": 497,
   "outputs": [],
   "source": [
    "aggregate_data = {'notes':notes}\n",
    "for i in range(iterates):\n",
    "    aggregate_data['iterate_{i}'.format(i=i)] = {'input_voltages':[],'measured_emitter_voltages':[],'measured_extractor_voltages':[],'emitter_currents':[],'extractor_currents':[],'times':[]}"
   ],
   "metadata": {
    "collapsed": false,
    "pycharm": {
     "name": "#%%\n"
    }
   }
  },
  {
   "cell_type": "code",
   "execution_count": 498,
   "outputs": [
    {
     "data": {
      "text/plain": "24"
     },
     "execution_count": 498,
     "metadata": {},
     "output_type": "execute_result"
    }
   ],
   "source": [
    "# Conduct iteration of voltages applied to emitter with extractor set as ground\n",
    "start_time = float(datetime.datetime.now().timestamp())\n",
    "for i in range(iterates):\n",
    "    for voltage in input_voltages:\n",
    "        emitter.write('smua.source.levelv = %s'%voltage)\n",
    "        extractor.write('smua.source.levelv = 0')\n",
    "\n",
    "        emitter.write('ireading, vreading = smua.measure.iv(smua.nvbuffer1, smua.nvbuffer2)')\n",
    "        extractor.write('ireading, vreading = smua.measure.iv(smua.nvbuffer1, smua.nvbuffer2)')\n",
    "\n",
    "        emitter_current = float(emitter.query(\"print(ireading)\")[:-1])\n",
    "        emitter_voltage = float(emitter.query(\"print(vreading)\")[:-1])\n",
    "\n",
    "        extractor_current = float(extractor.query(\"print(ireading)\")[:-1])\n",
    "        extractor_voltage = float(extractor.query(\"print(vreading)\")[:-1])\n",
    "\n",
    "        aggregate_data['iterate_{i}'.format(i=i)]['input_voltages'].append(voltage)\n",
    "        aggregate_data['iterate_{i}'.format(i=i)]['measured_emitter_voltages'].append(emitter_voltage)\n",
    "        aggregate_data['iterate_{i}'.format(i=i)]['measured_extractor_voltages'].append(extractor_voltage)\n",
    "        aggregate_data['iterate_{i}'.format(i=i)]['emitter_currents'].append(emitter_current)\n",
    "        aggregate_data['iterate_{i}'.format(i=i)]['extractor_currents'].append(extractor_current)\n",
    "        aggregate_data['iterate_{i}'.format(i=i)]['times'].append(float(datetime.datetime.now().timestamp()) - start_time)\n",
    "\n",
    "emitter.write('smua.source.levelv = 0')\n",
    "extractor.write('smua.source.levelv = 0')\n"
   ],
   "metadata": {
    "collapsed": false,
    "pycharm": {
     "name": "#%%\n"
    }
   }
  },
  {
   "cell_type": "code",
   "execution_count": 499,
   "outputs": [
    {
     "name": "stdout",
     "output_type": "stream",
     "text": [
      "0.10378086447715759\n",
      "9.63568770637965\n"
     ]
    }
   ],
   "source": [
    "dts = []\n",
    "for i in range(len(aggregate_data['iterate_1']['times']) - 1):\n",
    "    dts.append(aggregate_data['iterate_1']['times'][i+1] - aggregate_data['iterate_1']['times'][i])\n",
    "print(np.average(dts))\n",
    "print(1/np.average(dts))"
   ],
   "metadata": {
    "collapsed": false,
    "pycharm": {
     "name": "#%%\n"
    }
   }
  },
  {
   "cell_type": "code",
   "execution_count": 500,
   "outputs": [
    {
     "data": {
      "text/plain": "<Figure size 432x288 with 1 Axes>",
      "image/png": "[encoded data removed]"
     },
     "metadata": {
      "needs_background": "light"
     },
     "output_type": "display_data"
    }
   ],
   "source": [
    "plt.hist(dts)\n",
    "plt.show()"
   ],
   "metadata": {
    "collapsed": false,
    "pycharm": {
     "name": "#%%\n"
    }
   }
  },
  {
   "cell_type": "code",
   "execution_count": 501,
   "outputs": [
    {
     "name": "stdout",
     "output_type": "stream",
     "text": [
      "saved to {'C://Users//kashkin//Desktop//keithley data//one last bad coat cnt x631 test x3_ 2022_07_09-21_32_06.json'}\n"
     ]
    }
   ],
   "source": [
    "filename = data_dir + experiment_name + '_ %s'%datetime.datetime.now().strftime('%Y_%m_%d-%H_%M_%S') + '.json'\n",
    "\n",
    "with open(filename, 'w') as file:\n",
    "    json.dump(aggregate_data, file)\n",
    "\n",
    "print('saved to %s' %{filename})"
   ],
   "metadata": {
    "collapsed": false,
    "pycharm": {
     "name": "#%%\n"
    }
   }
  },
  {
   "cell_type": "code",
   "execution_count": 502,
   "outputs": [
    {
     "data": {
      "text/plain": "<Figure size 432x288 with 1 Axes>",
      "image/png": "[encoded data removed]"
     },
     "metadata": {
      "needs_background": "light"
     },
     "output_type": "display_data"
    }
   ],
   "source": [
    "for i in range(iterates):\n",
    "    plt.plot(aggregate_data['iterate_{i}'.format(i=i)]['input_voltages'], aggregate_data['iterate_{i}'.format(i=i)]['emitter_currents'],label=i)\n",
    "plt.xlabel('Voltage (V)')\n",
    "plt.ylabel('Current (A)')\n",
    "plt.legend()\n",
    "plt.show()"
   ],
   "metadata": {
    "collapsed": false,
    "pycharm": {
     "name": "#%%\n"
    }
   }
  },
  {
   "cell_type": "code",
   "execution_count": 374,
   "outputs": [
    {
     "data": {
      "text/plain": "<Figure size 432x288 with 1 Axes>",
      "image/png": "[encoded data removed]"
     },
     "metadata": {
      "needs_background": "light"
     },
     "output_type": "display_data"
    }
   ],
   "source": [
    "plt.plot(aggregate_data['iterate_1']['times'],aggregate_data['iterate_1']['extractor_currents'])\n",
    "plt.show()"
   ],
   "metadata": {
    "collapsed": false,
    "pycharm": {
     "name": "#%%\n"
    }
   }
  },
  {
   "cell_type": "code",
   "execution_count": 503,
   "outputs": [
    {
     "name": "stdout",
     "output_type": "stream",
     "text": [
      "\n",
      "Setting source voltage to 0 V\n",
      "Turning off output\n",
      "Closing Keithley connection\n"
     ]
    }
   ],
   "source": [
    "#Turn off output and drain capacitors\n",
    "print(\"\\nSetting source voltage to 0 V\")\n",
    "emitter.write(\"smua.source.levelv = 0\")\n",
    "extractor.write(\"smua.source.levelv = 0\")\n",
    "\n",
    "print(\"Turning off output\")\n",
    "emitter.write(\"smua.source.output = 0\")\n",
    "extractor.write(\"smua.source.output = 0\")\n",
    "\n",
    "print(\"Closing Keithley connection\")\n",
    "emitter.close()\n",
    "extractor.close()"
   ],
   "metadata": {
    "collapsed": false,
    "pycharm": {
     "name": "#%%\n"
    }
   }
  }
 ],
 "metadata": {
  "kernelspec": {
   "display_name": "Python 3",
   "language": "python",
   "name": "python3"
  },
  "language_info": {
   "codemirror_mode": {
    "name": "ipython",
    "version": 2
   },
   "file_extension": ".py",
   "mimetype": "text/x-python",
   "name": "python",
   "nbconvert_exporter": "python",
   "pygments_lexer": "ipython2",
   "version": "2.7.6"
  }
 },
 "nbformat": 4,
 "nbformat_minor": 0
}